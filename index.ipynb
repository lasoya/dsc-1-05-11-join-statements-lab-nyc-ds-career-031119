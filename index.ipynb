{
 "cells": [
  {
   "cell_type": "markdown",
   "metadata": {},
   "source": [
    "# Join Statements - Lab\n",
    "\n",
    "## Introduction\n",
    "\n",
    "In this lab, you'll practice your knowledge on Join statements.\n",
    "\n",
    "## Objectives\n",
    "\n",
    "You will be able to:\n",
    "- Write queries that make use of various types of Joins\n",
    "- Join tables using foreign keys"
   ]
  },
  {
   "cell_type": "markdown",
   "metadata": {},
   "source": [
    "## CRM Schema\n",
    "\n",
    "In almost all cases, rather then just working with a single table we will typically need data from multiple tables. \n",
    "Doing this requires the use of **joins ** using shared columns from the two tables. \n",
    "\n",
    "In this lab, we'll use the same Customer Relationship Management (CRM) database we used in our lecture before!\n",
    "<img src='Database-Schema.png' width=550>"
   ]
  },
  {
   "cell_type": "markdown",
   "metadata": {},
   "source": [
    "## Connecting to the Database\n",
    "Import the necessary packages and connect to the database **data.sqlite**."
   ]
  },
  {
   "cell_type": "code",
   "execution_count": 5,
   "metadata": {},
   "outputs": [],
   "source": [
    "#Your code here\n",
    "import sqlite3\n",
    "import pandas as pd\n",
    "connection = sqlite3.connect('data.sqlite', detect_types=sqlite3.PARSE_COLNAMES)\n",
    "cursor = connection.cursor()"
   ]
  },
  {
   "cell_type": "markdown",
   "metadata": {},
   "source": [
    "## Display the names of all the employees in Boston."
   ]
  },
  {
   "cell_type": "code",
   "execution_count": 10,
   "metadata": {},
   "outputs": [
    {
     "data": {
      "text/plain": [
       "[('1002',\n",
       "  'Murphy',\n",
       "  'Diane',\n",
       "  'x5800',\n",
       "  'dmurphy@classicmodelcars.com',\n",
       "  '1',\n",
       "  '',\n",
       "  'President'),\n",
       " ('1056',\n",
       "  'Patterson',\n",
       "  'Mary',\n",
       "  'x4611',\n",
       "  'mpatterso@classicmodelcars.com',\n",
       "  '1',\n",
       "  '1002',\n",
       "  'VP Sales'),\n",
       " ('1076',\n",
       "  'Firrelli',\n",
       "  'Jeff',\n",
       "  'x9273',\n",
       "  'jfirrelli@classicmodelcars.com',\n",
       "  '1',\n",
       "  '1002',\n",
       "  'VP Marketing'),\n",
       " ('1088',\n",
       "  'Patterson',\n",
       "  'William',\n",
       "  'x4871',\n",
       "  'wpatterson@classicmodelcars.com',\n",
       "  '6',\n",
       "  '1056',\n",
       "  'Sales Manager (APAC)'),\n",
       " ('1102',\n",
       "  'Bondur',\n",
       "  'Gerard',\n",
       "  'x5408',\n",
       "  'gbondur@classicmodelcars.com',\n",
       "  '4',\n",
       "  '1056',\n",
       "  'Sale Manager (EMEA)'),\n",
       " ('1143',\n",
       "  'Bow',\n",
       "  'Anthony',\n",
       "  'x5428',\n",
       "  'abow@classicmodelcars.com',\n",
       "  '1',\n",
       "  '1056',\n",
       "  'Sales Manager (NA)'),\n",
       " ('1165',\n",
       "  'Jennings',\n",
       "  'Leslie',\n",
       "  'x3291',\n",
       "  'ljennings@classicmodelcars.com',\n",
       "  '1',\n",
       "  '1143',\n",
       "  'Sales Rep'),\n",
       " ('1166',\n",
       "  'Thompson',\n",
       "  'Leslie',\n",
       "  'x4065',\n",
       "  'lthompson@classicmodelcars.com',\n",
       "  '1',\n",
       "  '1143',\n",
       "  'Sales Rep'),\n",
       " ('1188',\n",
       "  'Firrelli',\n",
       "  'Julie',\n",
       "  'x2173',\n",
       "  'jfirrelli@classicmodelcars.com',\n",
       "  '2',\n",
       "  '1143',\n",
       "  'Sales Rep'),\n",
       " ('1216',\n",
       "  'Patterson',\n",
       "  'Steve',\n",
       "  'x4334',\n",
       "  'spatterson@classicmodelcars.com',\n",
       "  '2',\n",
       "  '1143',\n",
       "  'Sales Rep'),\n",
       " ('1286',\n",
       "  'Tseng',\n",
       "  'Foon Yue',\n",
       "  'x2248',\n",
       "  'ftseng@classicmodelcars.com',\n",
       "  '3',\n",
       "  '1143',\n",
       "  'Sales Rep'),\n",
       " ('1323',\n",
       "  'Vanauf',\n",
       "  'George',\n",
       "  'x4102',\n",
       "  'gvanauf@classicmodelcars.com',\n",
       "  '3',\n",
       "  '1143',\n",
       "  'Sales Rep'),\n",
       " ('1337',\n",
       "  'Bondur',\n",
       "  'Loui',\n",
       "  'x6493',\n",
       "  'lbondur@classicmodelcars.com',\n",
       "  '4',\n",
       "  '1102',\n",
       "  'Sales Rep'),\n",
       " ('1370',\n",
       "  'Hernandez',\n",
       "  'Gerard',\n",
       "  'x2028',\n",
       "  'ghernande@classicmodelcars.com',\n",
       "  '4',\n",
       "  '1102',\n",
       "  'Sales Rep'),\n",
       " ('1401',\n",
       "  'Castillo',\n",
       "  'Pamela',\n",
       "  'x2759',\n",
       "  'pcastillo@classicmodelcars.com',\n",
       "  '4',\n",
       "  '1102',\n",
       "  'Sales Rep'),\n",
       " ('1501',\n",
       "  'Bott',\n",
       "  'Larry',\n",
       "  'x2311',\n",
       "  'lbott@classicmodelcars.com',\n",
       "  '7',\n",
       "  '1102',\n",
       "  'Sales Rep'),\n",
       " ('1504',\n",
       "  'Jones',\n",
       "  'Barry',\n",
       "  'x102',\n",
       "  'bjones@classicmodelcars.com',\n",
       "  '7',\n",
       "  '1102',\n",
       "  'Sales Rep'),\n",
       " ('1611',\n",
       "  'Fixter',\n",
       "  'Andy',\n",
       "  'x101',\n",
       "  'afixter@classicmodelcars.com',\n",
       "  '6',\n",
       "  '1088',\n",
       "  'Sales Rep'),\n",
       " ('1612',\n",
       "  'Marsh',\n",
       "  'Peter',\n",
       "  'x102',\n",
       "  'pmarsh@classicmodelcars.com',\n",
       "  '6',\n",
       "  '1088',\n",
       "  'Sales Rep'),\n",
       " ('1619',\n",
       "  'King',\n",
       "  'Tom',\n",
       "  'x103',\n",
       "  'tking@classicmodelcars.com',\n",
       "  '6',\n",
       "  '1088',\n",
       "  'Sales Rep'),\n",
       " ('1621',\n",
       "  'Nishi',\n",
       "  'Mami',\n",
       "  'x101',\n",
       "  'mnishi@classicmodelcars.com',\n",
       "  '5',\n",
       "  '1056',\n",
       "  'Sales Rep'),\n",
       " ('1625',\n",
       "  'Kato',\n",
       "  'Yoshimi',\n",
       "  'x102',\n",
       "  'ykato@classicmodelcars.com',\n",
       "  '5',\n",
       "  '1621',\n",
       "  'Sales Rep'),\n",
       " ('1702',\n",
       "  'Gerard',\n",
       "  'Martin',\n",
       "  'x2312',\n",
       "  'mgerard@classicmodelcars.com',\n",
       "  '4',\n",
       "  '1102',\n",
       "  'Sales Rep')]"
      ]
     },
     "execution_count": 10,
     "metadata": {},
     "output_type": "execute_result"
    }
   ],
   "source": [
    "cursor.execute('''SELECT * FROM employees;''').fetchall()"
   ]
  },
  {
   "cell_type": "code",
   "execution_count": 17,
   "metadata": {},
   "outputs": [
    {
     "data": {
      "text/html": [
       "<div>\n",
       "<style scoped>\n",
       "    .dataframe tbody tr th:only-of-type {\n",
       "        vertical-align: middle;\n",
       "    }\n",
       "\n",
       "    .dataframe tbody tr th {\n",
       "        vertical-align: top;\n",
       "    }\n",
       "\n",
       "    .dataframe thead th {\n",
       "        text-align: right;\n",
       "    }\n",
       "</style>\n",
       "<table border=\"1\" class=\"dataframe\">\n",
       "  <thead>\n",
       "    <tr style=\"text-align: right;\">\n",
       "      <th></th>\n",
       "      <th>0</th>\n",
       "      <th>1</th>\n",
       "    </tr>\n",
       "  </thead>\n",
       "  <tbody>\n",
       "    <tr>\n",
       "      <th>0</th>\n",
       "      <td>Boston</td>\n",
       "      <td>2</td>\n",
       "    </tr>\n",
       "    <tr>\n",
       "      <th>1</th>\n",
       "      <td>London</td>\n",
       "      <td>2</td>\n",
       "    </tr>\n",
       "    <tr>\n",
       "      <th>2</th>\n",
       "      <td>NYC</td>\n",
       "      <td>2</td>\n",
       "    </tr>\n",
       "    <tr>\n",
       "      <th>3</th>\n",
       "      <td>Paris</td>\n",
       "      <td>5</td>\n",
       "    </tr>\n",
       "    <tr>\n",
       "      <th>4</th>\n",
       "      <td>San Francisco</td>\n",
       "      <td>6</td>\n",
       "    </tr>\n",
       "  </tbody>\n",
       "</table>\n",
       "</div>"
      ],
      "text/plain": [
       "               0  1\n",
       "0         Boston  2\n",
       "1         London  2\n",
       "2            NYC  2\n",
       "3          Paris  5\n",
       "4  San Francisco  6"
      ]
     },
     "execution_count": 17,
     "metadata": {},
     "output_type": "execute_result"
    }
   ],
   "source": [
    "#Your code here\n"
   ]
  },
  {
   "cell_type": "markdown",
   "metadata": {},
   "source": [
    "## Do any offices have no employees?"
   ]
  },
  {
   "cell_type": "code",
   "execution_count": null,
   "metadata": {},
   "outputs": [],
   "source": [
    "#Your code here\n",
    "cursor.execute('''SELECT * FROM offices JOIN employees USING (officeCode) WHERE city = 'Boston';''')\n",
    "cursor.fetchall()"
   ]
  },
  {
   "cell_type": "markdown",
   "metadata": {},
   "source": [
    "## Write 3 Questions of your own and answer them"
   ]
  },
  {
   "cell_type": "code",
   "execution_count": null,
   "metadata": {},
   "outputs": [],
   "source": [
    "# Answers will vary"
   ]
  },
  {
   "cell_type": "code",
   "execution_count": null,
   "metadata": {},
   "outputs": [],
   "source": [
    "# Your code here"
   ]
  },
  {
   "cell_type": "code",
   "execution_count": null,
   "metadata": {},
   "outputs": [],
   "source": [
    "# Your code here"
   ]
  },
  {
   "cell_type": "code",
   "execution_count": null,
   "metadata": {},
   "outputs": [],
   "source": [
    "# Your code here"
   ]
  },
  {
   "cell_type": "markdown",
   "metadata": {},
   "source": [
    "## Level Up: Display the names of each product each employee has sold."
   ]
  },
  {
   "cell_type": "code",
   "execution_count": null,
   "metadata": {},
   "outputs": [],
   "source": [
    "# Your code here"
   ]
  },
  {
   "cell_type": "markdown",
   "metadata": {},
   "source": [
    "## Level Up: Display the Number of Products each Employee Has sold"
   ]
  },
  {
   "cell_type": "code",
   "execution_count": null,
   "metadata": {},
   "outputs": [],
   "source": [
    "#Your code here"
   ]
  },
  {
   "cell_type": "markdown",
   "metadata": {},
   "source": [
    "## Summary"
   ]
  },
  {
   "cell_type": "markdown",
   "metadata": {},
   "source": [
    "Congrats! You now know how to use Join statements, along with leveraging your foreign keys knowledge!"
   ]
  }
 ],
 "metadata": {
  "kernelspec": {
   "display_name": "Python 3",
   "language": "python",
   "name": "python3"
  },
  "language_info": {
   "codemirror_mode": {
    "name": "ipython",
    "version": 3
   },
   "file_extension": ".py",
   "mimetype": "text/x-python",
   "name": "python",
   "nbconvert_exporter": "python",
   "pygments_lexer": "ipython3",
   "version": "3.6.6"
  }
 },
 "nbformat": 4,
 "nbformat_minor": 2
}
