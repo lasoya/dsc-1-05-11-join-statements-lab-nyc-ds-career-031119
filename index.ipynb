{
 "cells": [
  {
   "cell_type": "markdown",
   "metadata": {},
   "source": [
    "# Join Statements - Lab\n",
    "\n",
    "## Introduction\n",
    "\n",
    "In this lab, you'll practice your knowledge on Join statements.\n",
    "\n",
    "## Objectives\n",
    "\n",
    "You will be able to:\n",
    "- Write queries that make use of various types of Joins\n",
    "- Join tables using foreign keys"
   ]
  },
  {
   "cell_type": "markdown",
   "metadata": {},
   "source": [
    "## CRM Schema\n",
    "\n",
    "In almost all cases, rather then just working with a single table we will typically need data from multiple tables. \n",
    "Doing this requires the use of **joins ** using shared columns from the two tables. \n",
    "\n",
    "In this lab, we'll use the same Customer Relationship Management (CRM) database we used in our lecture before!\n",
    "<img src='Database-Schema.png' width=550>"
   ]
  },
  {
   "cell_type": "markdown",
   "metadata": {},
   "source": [
    "## Connecting to the Database\n",
    "Import the necessary packages and connect to the database **data.sqlite**."
   ]
  },
  {
   "cell_type": "code",
   "execution_count": 5,
   "metadata": {},
   "outputs": [],
   "source": [
    "#Your code here\n",
    "import sqlite3\n",
    "import pandas as pd\n",
    "connection = sqlite3.connect('data.sqlite', detect_types=sqlite3.PARSE_COLNAMES)\n",
    "cursor = connection.cursor()"
   ]
  },
  {
   "cell_type": "markdown",
   "metadata": {},
   "source": [
    "## Display the names of all the employees in Boston."
   ]
  },
  {
   "cell_type": "code",
   "execution_count": 10,
   "metadata": {},
   "outputs": [
    {
     "data": {
      "text/plain": [
       "[('1002',\n",
       "  'Murphy',\n",
       "  'Diane',\n",
       "  'x5800',\n",
       "  'dmurphy@classicmodelcars.com',\n",
       "  '1',\n",
       "  '',\n",
       "  'President'),\n",
       " ('1056',\n",
       "  'Patterson',\n",
       "  'Mary',\n",
       "  'x4611',\n",
       "  'mpatterso@classicmodelcars.com',\n",
       "  '1',\n",
       "  '1002',\n",
       "  'VP Sales'),\n",
       " ('1076',\n",
       "  'Firrelli',\n",
       "  'Jeff',\n",
       "  'x9273',\n",
       "  'jfirrelli@classicmodelcars.com',\n",
       "  '1',\n",
       "  '1002',\n",
       "  'VP Marketing'),\n",
       " ('1088',\n",
       "  'Patterson',\n",
       "  'William',\n",
       "  'x4871',\n",
       "  'wpatterson@classicmodelcars.com',\n",
       "  '6',\n",
       "  '1056',\n",
       "  'Sales Manager (APAC)'),\n",
       " ('1102',\n",
       "  'Bondur',\n",
       "  'Gerard',\n",
       "  'x5408',\n",
       "  'gbondur@classicmodelcars.com',\n",
       "  '4',\n",
       "  '1056',\n",
       "  'Sale Manager (EMEA)'),\n",
       " ('1143',\n",
       "  'Bow',\n",
       "  'Anthony',\n",
       "  'x5428',\n",
       "  'abow@classicmodelcars.com',\n",
       "  '1',\n",
       "  '1056',\n",
       "  'Sales Manager (NA)'),\n",
       " ('1165',\n",
       "  'Jennings',\n",
       "  'Leslie',\n",
       "  'x3291',\n",
       "  'ljennings@classicmodelcars.com',\n",
       "  '1',\n",
       "  '1143',\n",
       "  'Sales Rep'),\n",
       " ('1166',\n",
       "  'Thompson',\n",
       "  'Leslie',\n",
       "  'x4065',\n",
       "  'lthompson@classicmodelcars.com',\n",
       "  '1',\n",
       "  '1143',\n",
       "  'Sales Rep'),\n",
       " ('1188',\n",
       "  'Firrelli',\n",
       "  'Julie',\n",
       "  'x2173',\n",
       "  'jfirrelli@classicmodelcars.com',\n",
       "  '2',\n",
       "  '1143',\n",
       "  'Sales Rep'),\n",
       " ('1216',\n",
       "  'Patterson',\n",
       "  'Steve',\n",
       "  'x4334',\n",
       "  'spatterson@classicmodelcars.com',\n",
       "  '2',\n",
       "  '1143',\n",
       "  'Sales Rep'),\n",
       " ('1286',\n",
       "  'Tseng',\n",
       "  'Foon Yue',\n",
       "  'x2248',\n",
       "  'ftseng@classicmodelcars.com',\n",
       "  '3',\n",
       "  '1143',\n",
       "  'Sales Rep'),\n",
       " ('1323',\n",
       "  'Vanauf',\n",
       "  'George',\n",
       "  'x4102',\n",
       "  'gvanauf@classicmodelcars.com',\n",
       "  '3',\n",
       "  '1143',\n",
       "  'Sales Rep'),\n",
       " ('1337',\n",
       "  'Bondur',\n",
       "  'Loui',\n",
       "  'x6493',\n",
       "  'lbondur@classicmodelcars.com',\n",
       "  '4',\n",
       "  '1102',\n",
       "  'Sales Rep'),\n",
       " ('1370',\n",
       "  'Hernandez',\n",
       "  'Gerard',\n",
       "  'x2028',\n",
       "  'ghernande@classicmodelcars.com',\n",
       "  '4',\n",
       "  '1102',\n",
       "  'Sales Rep'),\n",
       " ('1401',\n",
       "  'Castillo',\n",
       "  'Pamela',\n",
       "  'x2759',\n",
       "  'pcastillo@classicmodelcars.com',\n",
       "  '4',\n",
       "  '1102',\n",
       "  'Sales Rep'),\n",
       " ('1501',\n",
       "  'Bott',\n",
       "  'Larry',\n",
       "  'x2311',\n",
       "  'lbott@classicmodelcars.com',\n",
       "  '7',\n",
       "  '1102',\n",
       "  'Sales Rep'),\n",
       " ('1504',\n",
       "  'Jones',\n",
       "  'Barry',\n",
       "  'x102',\n",
       "  'bjones@classicmodelcars.com',\n",
       "  '7',\n",
       "  '1102',\n",
       "  'Sales Rep'),\n",
       " ('1611',\n",
       "  'Fixter',\n",
       "  'Andy',\n",
       "  'x101',\n",
       "  'afixter@classicmodelcars.com',\n",
       "  '6',\n",
       "  '1088',\n",
       "  'Sales Rep'),\n",
       " ('1612',\n",
       "  'Marsh',\n",
       "  'Peter',\n",
       "  'x102',\n",
       "  'pmarsh@classicmodelcars.com',\n",
       "  '6',\n",
       "  '1088',\n",
       "  'Sales Rep'),\n",
       " ('1619',\n",
       "  'King',\n",
       "  'Tom',\n",
       "  'x103',\n",
       "  'tking@classicmodelcars.com',\n",
       "  '6',\n",
       "  '1088',\n",
       "  'Sales Rep'),\n",
       " ('1621',\n",
       "  'Nishi',\n",
       "  'Mami',\n",
       "  'x101',\n",
       "  'mnishi@classicmodelcars.com',\n",
       "  '5',\n",
       "  '1056',\n",
       "  'Sales Rep'),\n",
       " ('1625',\n",
       "  'Kato',\n",
       "  'Yoshimi',\n",
       "  'x102',\n",
       "  'ykato@classicmodelcars.com',\n",
       "  '5',\n",
       "  '1621',\n",
       "  'Sales Rep'),\n",
       " ('1702',\n",
       "  'Gerard',\n",
       "  'Martin',\n",
       "  'x2312',\n",
       "  'mgerard@classicmodelcars.com',\n",
       "  '4',\n",
       "  '1102',\n",
       "  'Sales Rep')]"
      ]
     },
     "execution_count": 10,
     "metadata": {},
     "output_type": "execute_result"
    }
   ],
   "source": [
    "cursor.execute('''SELECT * FROM employees;''').fetchall()"
   ]
  },
  {
   "cell_type": "code",
   "execution_count": 19,
   "metadata": {},
   "outputs": [
    {
     "data": {
      "text/html": [
       "<div>\n",
       "<style scoped>\n",
       "    .dataframe tbody tr th:only-of-type {\n",
       "        vertical-align: middle;\n",
       "    }\n",
       "\n",
       "    .dataframe tbody tr th {\n",
       "        vertical-align: top;\n",
       "    }\n",
       "\n",
       "    .dataframe thead th {\n",
       "        text-align: right;\n",
       "    }\n",
       "</style>\n",
       "<table border=\"1\" class=\"dataframe\">\n",
       "  <thead>\n",
       "    <tr style=\"text-align: right;\">\n",
       "      <th></th>\n",
       "      <th>0</th>\n",
       "      <th>1</th>\n",
       "    </tr>\n",
       "  </thead>\n",
       "  <tbody>\n",
       "    <tr>\n",
       "      <th>0</th>\n",
       "      <td>Julie</td>\n",
       "      <td>Firrelli</td>\n",
       "    </tr>\n",
       "    <tr>\n",
       "      <th>1</th>\n",
       "      <td>Steve</td>\n",
       "      <td>Patterson</td>\n",
       "    </tr>\n",
       "  </tbody>\n",
       "</table>\n",
       "</div>"
      ],
      "text/plain": [
       "       0          1\n",
       "0  Julie   Firrelli\n",
       "1  Steve  Patterson"
      ]
     },
     "execution_count": 19,
     "metadata": {},
     "output_type": "execute_result"
    }
   ],
   "source": [
    "#Your code here\n",
    "cursor.execute('''SELECT firstNAME, lastNAME FROM employees JOIN offices USING (officeCode) WHERE city='Boston';''')\n",
    "df = pd.DataFrame(cursor.fetchall())\n",
    "df.head()"
   ]
  },
  {
   "cell_type": "markdown",
   "metadata": {},
   "source": [
    "## Do any offices have no employees?"
   ]
  },
  {
   "cell_type": "code",
   "execution_count": 20,
   "metadata": {},
   "outputs": [
    {
     "data": {
      "text/html": [
       "<div>\n",
       "<style scoped>\n",
       "    .dataframe tbody tr th:only-of-type {\n",
       "        vertical-align: middle;\n",
       "    }\n",
       "\n",
       "    .dataframe tbody tr th {\n",
       "        vertical-align: top;\n",
       "    }\n",
       "\n",
       "    .dataframe thead th {\n",
       "        text-align: right;\n",
       "    }\n",
       "</style>\n",
       "<table border=\"1\" class=\"dataframe\">\n",
       "  <thead>\n",
       "    <tr style=\"text-align: right;\">\n",
       "      <th></th>\n",
       "      <th>0</th>\n",
       "      <th>1</th>\n",
       "    </tr>\n",
       "  </thead>\n",
       "  <tbody>\n",
       "    <tr>\n",
       "      <th>0</th>\n",
       "      <td>Boston</td>\n",
       "      <td>2</td>\n",
       "    </tr>\n",
       "    <tr>\n",
       "      <th>1</th>\n",
       "      <td>London</td>\n",
       "      <td>2</td>\n",
       "    </tr>\n",
       "    <tr>\n",
       "      <th>2</th>\n",
       "      <td>NYC</td>\n",
       "      <td>2</td>\n",
       "    </tr>\n",
       "    <tr>\n",
       "      <th>3</th>\n",
       "      <td>Paris</td>\n",
       "      <td>5</td>\n",
       "    </tr>\n",
       "    <tr>\n",
       "      <th>4</th>\n",
       "      <td>San Francisco</td>\n",
       "      <td>6</td>\n",
       "    </tr>\n",
       "  </tbody>\n",
       "</table>\n",
       "</div>"
      ],
      "text/plain": [
       "               0  1\n",
       "0         Boston  2\n",
       "1         London  2\n",
       "2            NYC  2\n",
       "3          Paris  5\n",
       "4  San Francisco  6"
      ]
     },
     "execution_count": 20,
     "metadata": {},
     "output_type": "execute_result"
    }
   ],
   "source": [
    "#Your code here\n",
    "cursor.execute('''SELECT city, COUNT(*) FROM offices LEFT JOIN employees USNG (officeCode) GROUP BY 1;''')\n",
    "df = pd.DataFrame(cursor.fetchall())\n",
    "df.head()"
   ]
  },
  {
   "cell_type": "markdown",
   "metadata": {},
   "source": [
    "## Write 3 Questions of your own and answer them"
   ]
  },
  {
   "cell_type": "code",
   "execution_count": null,
   "metadata": {},
   "outputs": [],
   "source": [
    "# Answers will vary\n",
    "#Which customer made the most payments?\n",
    "#What product had the most orders?\n",
    "#Which customer ordered the most?"
   ]
  },
  {
   "cell_type": "code",
   "execution_count": 32,
   "metadata": {},
   "outputs": [
    {
     "data": {
      "text/html": [
       "<div>\n",
       "<style scoped>\n",
       "    .dataframe tbody tr th:only-of-type {\n",
       "        vertical-align: middle;\n",
       "    }\n",
       "\n",
       "    .dataframe tbody tr th {\n",
       "        vertical-align: top;\n",
       "    }\n",
       "\n",
       "    .dataframe thead th {\n",
       "        text-align: right;\n",
       "    }\n",
       "</style>\n",
       "<table border=\"1\" class=\"dataframe\">\n",
       "  <thead>\n",
       "    <tr style=\"text-align: right;\">\n",
       "      <th></th>\n",
       "      <th>0</th>\n",
       "      <th>1</th>\n",
       "    </tr>\n",
       "  </thead>\n",
       "  <tbody>\n",
       "    <tr>\n",
       "      <th>0</th>\n",
       "      <td>Kelly's Gift Shop</td>\n",
       "      <td>273</td>\n",
       "    </tr>\n",
       "  </tbody>\n",
       "</table>\n",
       "</div>"
      ],
      "text/plain": [
       "                   0    1\n",
       "0  Kelly's Gift Shop  273"
      ]
     },
     "execution_count": 32,
     "metadata": {},
     "output_type": "execute_result"
    }
   ],
   "source": [
    "# Your code here\n",
    "cursor.execute('''SELECT customerName, COUNT(*) FROM payments JOIN customers USING (customerNumber) ORDER BY COUNT(checkNumber) DESC;''')\n",
    "customers = pd.DataFrame(cursor.fetchall())\n",
    "customers.head()"
   ]
  },
  {
   "cell_type": "code",
   "execution_count": 34,
   "metadata": {},
   "outputs": [
    {
     "data": {
      "text/html": [
       "<div>\n",
       "<style scoped>\n",
       "    .dataframe tbody tr th:only-of-type {\n",
       "        vertical-align: middle;\n",
       "    }\n",
       "\n",
       "    .dataframe tbody tr th {\n",
       "        vertical-align: top;\n",
       "    }\n",
       "\n",
       "    .dataframe thead th {\n",
       "        text-align: right;\n",
       "    }\n",
       "</style>\n",
       "<table border=\"1\" class=\"dataframe\">\n",
       "  <thead>\n",
       "    <tr style=\"text-align: right;\">\n",
       "      <th></th>\n",
       "      <th>0</th>\n",
       "      <th>1</th>\n",
       "      <th>2</th>\n",
       "    </tr>\n",
       "  </thead>\n",
       "  <tbody>\n",
       "    <tr>\n",
       "      <th>0</th>\n",
       "      <td>1969 Dodge Charger</td>\n",
       "      <td>Classic Cars</td>\n",
       "      <td>97</td>\n",
       "    </tr>\n",
       "    <tr>\n",
       "      <th>1</th>\n",
       "      <td>1969 Dodge Super Bee</td>\n",
       "      <td>Classic Cars</td>\n",
       "      <td>90</td>\n",
       "    </tr>\n",
       "    <tr>\n",
       "      <th>2</th>\n",
       "      <td>America West Airlines B757-200</td>\n",
       "      <td>Planes</td>\n",
       "      <td>85</td>\n",
       "    </tr>\n",
       "    <tr>\n",
       "      <th>3</th>\n",
       "      <td>F/A 18 Hornet 1/72</td>\n",
       "      <td>Planes</td>\n",
       "      <td>77</td>\n",
       "    </tr>\n",
       "    <tr>\n",
       "      <th>4</th>\n",
       "      <td>1970 Plymouth Hemi Cuda</td>\n",
       "      <td>Classic Cars</td>\n",
       "      <td>77</td>\n",
       "    </tr>\n",
       "  </tbody>\n",
       "</table>\n",
       "</div>"
      ],
      "text/plain": [
       "                                0             1   2\n",
       "0              1969 Dodge Charger  Classic Cars  97\n",
       "1            1969 Dodge Super Bee  Classic Cars  90\n",
       "2  America West Airlines B757-200        Planes  85\n",
       "3              F/A 18 Hornet 1/72        Planes  77\n",
       "4         1970 Plymouth Hemi Cuda  Classic Cars  77"
      ]
     },
     "execution_count": 34,
     "metadata": {},
     "output_type": "execute_result"
    }
   ],
   "source": [
    "# Your code here\n",
    "cursor.execute('''SELECT productName, productLine, quantityOrdered FROM orderdetails JOIN products USING (productCode) ORDER BY quantityOrdered DESC;''')\n",
    "products = pd.DataFrame(cursor.fetchall())\n",
    "products.head()"
   ]
  },
  {
   "cell_type": "code",
   "execution_count": null,
   "metadata": {},
   "outputs": [],
   "source": [
    "# Your code here\n",
    "cursor.execute('''SELECT customerName, COUNT(orderNumber) FROM customers JOIN products USING (productCode) ORDER BY quantityOrdered DESC;''')\n",
    "products = pd.DataFrame(cursor.fetchall())\n",
    "products.head()"
   ]
  },
  {
   "cell_type": "markdown",
   "metadata": {},
   "source": [
    "## Level Up: Display the names of each product each employee has sold."
   ]
  },
  {
   "cell_type": "code",
   "execution_count": null,
   "metadata": {},
   "outputs": [],
   "source": [
    "# Your code here\n"
   ]
  },
  {
   "cell_type": "markdown",
   "metadata": {},
   "source": [
    "## Level Up: Display the Number of Products each Employee Has sold"
   ]
  },
  {
   "cell_type": "code",
   "execution_count": null,
   "metadata": {},
   "outputs": [],
   "source": [
    "#Your code here"
   ]
  },
  {
   "cell_type": "markdown",
   "metadata": {},
   "source": [
    "## Summary"
   ]
  },
  {
   "cell_type": "markdown",
   "metadata": {},
   "source": [
    "Congrats! You now know how to use Join statements, along with leveraging your foreign keys knowledge!"
   ]
  }
 ],
 "metadata": {
  "kernelspec": {
   "display_name": "Python 3",
   "language": "python",
   "name": "python3"
  },
  "language_info": {
   "codemirror_mode": {
    "name": "ipython",
    "version": 3
   },
   "file_extension": ".py",
   "mimetype": "text/x-python",
   "name": "python",
   "nbconvert_exporter": "python",
   "pygments_lexer": "ipython3",
   "version": "3.6.6"
  }
 },
 "nbformat": 4,
 "nbformat_minor": 2
}
